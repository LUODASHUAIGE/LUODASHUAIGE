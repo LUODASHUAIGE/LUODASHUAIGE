{
 "cells": [
  {
   "cell_type": "code",
   "execution_count": null,
   "metadata": {},
   "outputs": [],
   "source": [
    "## Question 3\n",
    "import pandas as pd\n",
    "import re\n",
    "import pickle\n",
    "### (a)\n",
    "## I choose 4 datasets: NHANES 2011-2012 | 2013-2014 | 2015-2016 | 2017-2018\n",
    "demogr_11_12 = pd.read_sas('https://wwwn.cdc.gov/Nchs/Nhanes/2011-2012/DEMO_G.XPT')\n",
    "demogr_13_14 = pd.read_sas('https://wwwn.cdc.gov/Nchs/Nhanes/2013-2014/DEMO_H.XPT')\n",
    "demogr_15_16 = pd.read_sas('https://wwwn.cdc.gov/Nchs/Nhanes/2015-2016/DEMO_I.XPT')\n",
    "demogr_17_18 = pd.read_sas('https://wwwn.cdc.gov/Nchs/Nhanes/2017-2018/DEMO_J.XPT')"
   ]
  },
  {
   "cell_type": "code",
   "execution_count": null,
   "metadata": {},
   "outputs": [],
   "source": [
    "columns = ['SEQN', 'RIDAGEYR', 'RIDRETH3', 'DMDEDUC2', 'DMDMARTL', 'RIDSTATR', 'SDMVPSU', \\\n",
    "           'SDMVSTRA', 'WTMEC2YR', 'WTINT2YR']\n",
    "demogr_12 = demogr_11_12.loc[:, columns]\n",
    "demogr_12['type'] = '11-12'\n",
    "# From the expression of demographic data, variable 'SEQN' is string type,\n",
    "# variables 'RIDRETH3', 'DMDEDUC2', 'DMDMARTL', 'RIDSTATR', 'SDMVPSU' are categorical,\n",
    "# variables 'RIDAGEYR' and 'SDMVSTRA' are integers.\n",
    "# so transform types of variables above.\n",
    "cate_col = ['RIDRETH3', 'DMDEDUC2', 'DMDMARTL', 'RIDSTATR', 'SDMVPSU']\n",
    "demogr_12 = demogr_12.astype({'SEQN' : 'str', 'RIDAGEYR' : 'int', 'SDMVSTRA' : 'int'}) \n",
    "for i in cate_col:\n",
    "    demogr_12.loc[:, i] = demogr_12.astype({i : 'category'})\n",
    "# rename columns to make them readable    \n",
    "demogr_12 = demogr_12.rename(columns = {'SEQN' : 'id','RIDAGEYR' : 'age', 'RIDRETH3' : 'race', \\\n",
    "    'DMDEDUC2' : 'education', 'DMDMARTL' : 'marital Status','RIDSTATR' : 'examine status',\\\n",
    "    'SDMVPSU' : 'masked pseudo-psu','SDMVSTRA' : 'masked pseudo-stratum',\\\n",
    "    'WTMEC2YR' : 'interview & mec','WTINT2YR' : 'interview'})\n",
    "\n",
    "demogr_34 = demogr_13_14.loc[:, columns]\n",
    "demogr_34['type'] = '13-14'\n",
    "demogr_34 = demogr_34.astype({'SEQN' : 'str', 'RIDAGEYR' : 'int', 'SDMVSTRA' : 'int'}) \n",
    "for i in cate_col:\n",
    "    demogr_34.loc[:, i] = demogr_34.astype({i : 'category'})\n",
    "demogr_34 = demogr_34.rename(columns = {'SEQN' : 'id','RIDAGEYR' : 'age', 'RIDRETH3' : 'race', \\\n",
    "    'DMDEDUC2' : 'education', 'DMDMARTL' : 'marital Status','RIDSTATR' : 'examine status',\\\n",
    "    'SDMVPSU' : 'masked pseudo-psu','SDMVSTRA' : 'masked pseudo-stratum',\\\n",
    "    'WTMEC2YR' : 'interview & mec','WTINT2YR' : 'interview'})\n",
    "\n",
    "demogr_56 = demogr_15_16.loc[:, columns]\n",
    "demogr_56['type'] = '15-16'\n",
    "demogr_56 = demogr_56.astype({'SEQN' : 'str', 'RIDAGEYR' : 'int', 'SDMVSTRA' : 'int'}) \n",
    "for i in cate_col:\n",
    "    demogr_56.loc[:, i] = demogr_56.astype({i : 'category'})\n",
    "demogr_56 = demogr_56.rename(columns = {'SEQN' : 'id','RIDAGEYR' : 'age', 'RIDRETH3' : 'race', \\\n",
    "    'DMDEDUC2' : 'education', 'DMDMARTL' : 'marital Status','RIDSTATR' : 'examine status',\\\n",
    "    'SDMVPSU' : 'masked pseudo-psu','SDMVSTRA' : 'masked pseudo-stratum',\\\n",
    "    'WTMEC2YR' : 'interview & mec','WTINT2YR' : 'interview'})\n",
    "\n",
    "demogr_78 = demogr_17_18.loc[:, columns]\n",
    "demogr_78['type'] = '17-18'\n",
    "demogr_78 = demogr_78.astype({'SEQN' : 'str', 'RIDAGEYR' : 'int', 'SDMVSTRA' : 'int'}) \n",
    "for i in cate_col:\n",
    "    demogr_78.loc[:, i] = demogr_78.astype({i : 'category'})\n",
    "demogr_78 = demogr_78.rename(columns = {'SEQN' : 'id','RIDAGEYR' : 'age', 'RIDRETH3' : 'race', \\\n",
    "    'DMDEDUC2' : 'education', 'DMDMARTL' : 'marital Status','RIDSTATR' : 'examine status',\\\n",
    "    'SDMVPSU' : 'masked pseudo-psu','SDMVSTRA' : 'masked pseudo-stratum',\\\n",
    "    'WTMEC2YR' : 'interview & mec','WTINT2YR' : 'interview'})\n"
   ]
  },
  {
   "cell_type": "code",
   "execution_count": null,
   "metadata": {},
   "outputs": [],
   "source": [
    "# output pickle document\n",
    "demogr = pd.concat([demogr_12, demogr_34, demogr_56, demogr_78])\n",
    "demogr.to_pickle('./demogr_total.pkl')"
   ]
  },
  {
   "cell_type": "code",
   "execution_count": null,
   "metadata": {},
   "outputs": [],
   "source": [
    "### (b)\n",
    "oral_11_12 = pd.read_sas('https://wwwn.cdc.gov/Nchs/Nhanes/2011-2012/OHXDEN_G.XPT')\n",
    "oral_13_14 = pd.read_sas('https://wwwn.cdc.gov/Nchs/Nhanes/2013-2014/OHXDEN_H.XPT')\n",
    "oral_15_16 = pd.read_sas('https://wwwn.cdc.gov/Nchs/Nhanes/2015-2016/OHXDEN_I.XPT')\n",
    "oral_17_18 = pd.read_sas('https://wwwn.cdc.gov/Nchs/Nhanes/2017-2018/OHXDEN_J.XPT')               "
   ]
  },
  {
   "cell_type": "code",
   "execution_count": null,
   "metadata": {},
   "outputs": [],
   "source": [
    "columns = ['SEQN', 'OHDDESTS']\n",
    "col_list = oral_11_12.columns.tolist()\n",
    "\n",
    "# match tooth counts (OHXxxTC)\n",
    "pattern_1 = re.compile(r'OHX[\\d][\\d]TC')\n",
    "m_1 = [pattern_1.search(i) for i in col_list]  # loop all columns and match in the columns \n",
    "m_1 = [i for i in m_1 if i != None]  # extract not None value\n",
    "m_1 = [i.group(0) for i in m_1]  # extract match value\n",
    "columns.extend(m_1) # add matched values into column list.\n",
    "# print(len(columns)) Here 34 columns in total\n",
    "\n",
    "# match coronal cavities (OHXxxCTC) in the columns\n",
    "pattern_2 = re.compile(r'OHX[\\d][\\d]CTC')\n",
    "m_2 = [pattern_2.search(i) for i in col_list]\n",
    "m_2 = [i for i in m_2 if i != None]\n",
    "m_2 = [i.group(0) for i in m_2]\n",
    "columns.extend(m_2)\n",
    "# print(len(columns)) Here 62 columns in total\n",
    "\n",
    "oral_12 = oral_11_12.loc[:, columns]\n",
    "oral_12['type'] = '11-12'\n",
    "oral_34 = oral_13_14.loc[:, columns]\n",
    "oral_34['type'] = '13-14'\n",
    "oral_56 = oral_15_16.loc[:, columns]\n",
    "oral_56['type'] = '15-16'\n",
    "oral_78 = oral_17_18.loc[:, columns]\n",
    "oral_78['type'] = '17-18'\n",
    "\n",
    "## column type transform:\n",
    "## columns (OHXxxCTC) are read as byte type.\n",
    "## They are supposed to be string type.\n",
    "oral_12 = oral_12.astype({'SEQN' : 'str','OHDDESTS' : 'category'}) \n",
    "oral_34 = oral_34.astype({'SEQN' : 'str','OHDDESTS' : 'category'}) \n",
    "oral_56 = oral_56.astype({'SEQN' : 'str','OHDDESTS' : 'category'})\n",
    "oral_78 = oral_78.astype({'SEQN' : 'str','OHDDESTS' : 'category'}) \n",
    "# iterate column indice of OHXxxCTC\n",
    "for i in range(34, len(columns)):\n",
    "    oral_12.iloc[:, i] = oral_12.iloc[:, i].map(lambda x : str(x, encoding = 'utf-8'))\n",
    "    oral_34.iloc[:, i] = oral_34.iloc[:, i].map(lambda x : str(x, encoding = 'utf-8'))\n",
    "    oral_56.iloc[:, i] = oral_56.iloc[:, i].map(lambda x : str(x, encoding = 'utf-8'))\n",
    "    oral_78.iloc[:, i] = oral_78.iloc[:, i].map(lambda x : str(x, encoding = 'utf-8'))\n",
    "# rename columns\n",
    "oral_12 = oral_12.rename(columns = {'SEQN' : 'id', 'OHDDESTS' : 'status code'}) \n",
    "oral_12.columns = [i.lower() for i in list(oral_12.columns)]\n",
    "oral_34 = oral_34.rename(columns = {'SEQN' : 'id', 'OHDDESTS' : 'status code'}) \n",
    "oral_34.columns = [i.lower() for i in list(oral_12.columns)]\n",
    "oral_56 = oral_56.rename(columns = {'SEQN' : 'id', 'OHDDESTS' : 'status code'}) \n",
    "oral_56.columns = [i.lower() for i in list(oral_12.columns)]\n",
    "oral_78 = oral_78.rename(columns = {'SEQN' : 'id', 'OHDDESTS' : 'status code'}) \n",
    "oral_78.columns = [i.lower() for i in list(oral_12.columns)]"
   ]
  },
  {
   "cell_type": "code",
   "execution_count": null,
   "metadata": {},
   "outputs": [],
   "source": [
    "## output pickle document\n",
    "oral = pd.concat([oral_12, oral_34, oral_56, oral_78])\n",
    "oral.to_pickle('./oral_dentition_total.pkl')"
   ]
  },
  {
   "cell_type": "code",
   "execution_count": null,
   "metadata": {},
   "outputs": [],
   "source": [
    "### (c)\n",
    "## Case of demographic data is:  39156\n",
    "## Case of Oral dentition data is:  35909\n",
    "print('Case of demographic data is: ', demogr.shape[0])\n",
    "print('Case of Oral dentition data is: ', oral.shape[0])"
   ]
  }
 ],
 "metadata": {
  "kernelspec": {
   "display_name": "Python 3",
   "language": "python",
   "name": "python3"
  },
  "language_info": {
   "codemirror_mode": {
    "name": "ipython",
    "version": 3
   },
   "file_extension": ".py",
   "mimetype": "text/x-python",
   "name": "python",
   "nbconvert_exporter": "python",
   "pygments_lexer": "ipython3",
   "version": "3.8.5"
  }
 },
 "nbformat": 4,
 "nbformat_minor": 4
}
