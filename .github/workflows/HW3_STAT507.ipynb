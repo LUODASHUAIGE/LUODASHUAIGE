{
 "cells": [
  {
   "cell_type": "markdown",
   "metadata": {},
   "source": [
    "# Question 0 Warm\n",
    "&nbsp;  URLS of 2009 RECS data: \n",
    "'https://www.eia.gov/consumption/residential/data/2009/csv/recs2009_public.csv'\n",
    "<br/>\n",
    "&nbsp;  URLS of 2009 weighted replicate data: \n",
    "'https://www.eia.gov/consumption/residential/data/2009/csv/recs2009_public_repweights.csv'\n",
    "<br/>\n",
    "&nbsp;  URLS of 2015 RECS data: \n",
    "'https://www.eia.gov/consumption/residential/data/2015/csv/recs2015_public_v4.csv'\n",
    "<br/> \n",
    "&nbsp;  After reading codebook, variable 'HDD65' is chosen for heating degree days,'CDD65' for cooling degree days.\n",
    "'REGIONC' for census region,'DOEID' for id of residents. These 4 variables are both chosen from 2009RECS and 2015RECS data. \n",
    "For 2015 RECS data, variable 'BRRWTxx's are chosen for replicated weights and 'NWEIGHT' chosen for final sample weight.\n",
    "For 2009 weight data, variable 'brr_weight_x+' is chosen for replicated weights,'NWEIGHT' chosen for final sample weight. \n",
    "\n",
    "## The method of using replicate weights.\n",
    "&nbsp; The link explaining how to use the replicate weights is 'https://www.eia.gov/consumption/residential/data/2015/pdf/microdata_v3.pdf'.  Related pdf document is [RECS](https://www.eia.gov/consumption/residential/data/2015/pdf/microdata_v3.pdf). \n",
    "<br/>\n",
    "&nbsp; In RECS, Fay’s method of the balanced repeated replication (BRR) technique is used for estimating standard errors. \n",
    "  Replicate weights are used in this method to repeatedly estimate the statistic of interest and calculate the differences between these estimates and the full-sample estimate.\n",
    "<br/>  \n",
    "&nbsp; $\\theta$ is defined as a population parameter of interest. Define $\\hat{\\theta}$ as the estimate from the full sample for $\\theta$.Define $\\hat{\\theta_{r}}$ as the estimate from the r-th replicate subsample by using replicate weights. Define R as the total number of replicate subsamples(For 2015 RECS, R = 96 and $\\epsilon$ = 0.5). Define $\\epsilon$ as the Fay coefficient,$0 \\le \\epsilon < 1$. Then the variance of $\\hat{\\theta}$ is estimated by $\\hat{V}({\\hat{\\theta}})$:\n",
    "<br/>\n",
    "$$ \\hat{V}(\\hat{\\theta}) = \\frac{1}{R(1 - \\epsilon^{2})}\\sum_{r = 1}^{R}({\\hat{\\theta_{r}}} - {\\hat{\\theta}})^2 $$\n",
    "<br/>\n",
    "&nbsp; Since the standard error of an estimator is the square root of that estimator’s variance,so standard error $\\hat{SE}(\\hat{\\theta})$ is:\n",
    "$$ \\hat{SE(\\hat{\\theta)}} = \\sqrt[2]{\\hat{V}(\\hat{\\theta})}$$\n",
    "\n",
    "\n"
   ]
  },
  {
   "cell_type": "code",
   "execution_count": 2,
   "metadata": {},
   "outputs": [],
   "source": [
    "import pandas as pd\n",
    "import re # to match replicated weight in 2015 RECS data \n",
    "import os \n",
    "import numpy as np\n",
    "import matplotlib.pyplot as plt"
   ]
  },
  {
   "cell_type": "code",
   "execution_count": 10,
   "metadata": {},
   "outputs": [],
   "source": [
    "# Question 1\n",
    "\n",
    "## (a)\n",
    "# import 2019RECS,weighted data and 2015RECS data\n",
    "url_2009 = 'https://www.eia.gov/consumption/residential/data/2009/csv/recs2009_public.csv'\n",
    "url_2015 = 'https://www.eia.gov/consumption/residential/data/2015/csv/recs2015_public_v4.csv'\n",
    "url_2009_r_weight = 'https://www.eia.gov/consumption/residential/data/2009/csv/recs2009_public_repweights.csv'\n",
    "local_files = ['recs2009_public.csv', 'recs2015_public_v4.csv', 'recs2009_public_repweights.csv']\n",
    "# 2009 RECS\n",
    "if os.path.exists('./'+local_files[0]):\n",
    "    data_2009 = pd.read_csv('./'+local_files[0], low_memory = False)\n",
    "else:\n",
    "    data_2009 = pd.read_csv(url_2009, low_memory = False)\n",
    "    data_2009.to_csv(local_files[0], index = False)\n",
    "    \n",
    "#  2015 RECS\n",
    "if os.path.exists('./'+local_files[1]):\n",
    "    data_2009 = pd.read_csv('./'+local_files[1], low_memory = False)\n",
    "else:\n",
    "    data_2015 = pd.read_csv(url_2015, low_memory = False)\n",
    "    data_2015.to_csv(local_files[1], index = False)\n",
    "    \n",
    "#  2009 weight\n",
    "if os.path.exists('./'+local_files[2]):\n",
    "    data_2009_weight = pd.read_csv('./'+local_files[2], low_memory = False)\n",
    "else:\n",
    "    data_2009_weight = pd.read_csv(url_2009_r_weight, low_memory = False)\n",
    "    data_2009_weight.to_csv(local_files[2], index = False)"
   ]
  },
  {
   "cell_type": "code",
   "execution_count": 8,
   "metadata": {},
   "outputs": [],
   "source": [
    "## necessary columns:\n",
    "n_cols = ['DOEID', 'CDD65', 'HDD65', 'REGIONC', 'NWEIGHT']\n",
    "\n",
    "## data_2009_1 is the organized data for year 2009\n",
    "d_trans = data_2009_weight.loc[:, ['DOEID', 'NWEIGHT']]\n",
    "data_2009_all = data_2009.merge(d_trans, on = 'DOEID')\n",
    "# after merging, columns 'NWEIGHT' adds a suffix '_y'\n",
    "data_2009_all = data_2009_all.rename(columns = {'NWEIGHT_y' : 'NWEIGHT'})\n",
    "data_2009_1 = data_2009_all[n_cols]\n",
    "data_2009_1 = data_2009_1.rename(str.lower, axis = 'columns')\n",
    "## From codebook, variable 'regionc' is categorical, make dtype transformation.\n",
    "data_2009_1 = data_2009_1.astype({'regionc' : 'category'})\n",
    "\n",
    "## data_2015_1 is the organized data for year 2015\n",
    "data_2015_1 = data_2015[n_cols]\n",
    "data_2015_1 = data_2015_1.rename(str.lower, axis = 'columns')\n",
    "data_2015_1 = data_2015_1.astype({'regionc' : 'category'})"
   ]
  },
  {
   "cell_type": "code",
   "execution_count": 203,
   "metadata": {},
   "outputs": [
    {
     "data": {
      "text/html": [
       "<div>\n",
       "<style scoped>\n",
       "    .dataframe tbody tr th:only-of-type {\n",
       "        vertical-align: middle;\n",
       "    }\n",
       "\n",
       "    .dataframe tbody tr th {\n",
       "        vertical-align: top;\n",
       "    }\n",
       "\n",
       "    .dataframe thead th {\n",
       "        text-align: right;\n",
       "    }\n",
       "</style>\n",
       "<table border=\"1\" class=\"dataframe\">\n",
       "  <thead>\n",
       "    <tr style=\"text-align: right;\">\n",
       "      <th></th>\n",
       "      <th>doeid</th>\n",
       "      <th>cdd65</th>\n",
       "      <th>hdd65</th>\n",
       "      <th>regionc</th>\n",
       "      <th>nweight</th>\n",
       "    </tr>\n",
       "  </thead>\n",
       "  <tbody>\n",
       "    <tr>\n",
       "      <th>0</th>\n",
       "      <td>1</td>\n",
       "      <td>1080</td>\n",
       "      <td>4742</td>\n",
       "      <td>2</td>\n",
       "      <td>2471.679705</td>\n",
       "    </tr>\n",
       "    <tr>\n",
       "      <th>1</th>\n",
       "      <td>2</td>\n",
       "      <td>199</td>\n",
       "      <td>2662</td>\n",
       "      <td>4</td>\n",
       "      <td>8599.172010</td>\n",
       "    </tr>\n",
       "    <tr>\n",
       "      <th>2</th>\n",
       "      <td>3</td>\n",
       "      <td>505</td>\n",
       "      <td>6233</td>\n",
       "      <td>1</td>\n",
       "      <td>8969.915921</td>\n",
       "    </tr>\n",
       "    <tr>\n",
       "      <th>3</th>\n",
       "      <td>4</td>\n",
       "      <td>672</td>\n",
       "      <td>6034</td>\n",
       "      <td>2</td>\n",
       "      <td>18003.639600</td>\n",
       "    </tr>\n",
       "    <tr>\n",
       "      <th>4</th>\n",
       "      <td>5</td>\n",
       "      <td>702</td>\n",
       "      <td>5388</td>\n",
       "      <td>1</td>\n",
       "      <td>5999.605242</td>\n",
       "    </tr>\n",
       "    <tr>\n",
       "      <th>...</th>\n",
       "      <td>...</td>\n",
       "      <td>...</td>\n",
       "      <td>...</td>\n",
       "      <td>...</td>\n",
       "      <td>...</td>\n",
       "    </tr>\n",
       "    <tr>\n",
       "      <th>12078</th>\n",
       "      <td>12079</td>\n",
       "      <td>332</td>\n",
       "      <td>7671</td>\n",
       "      <td>2</td>\n",
       "      <td>10219.802880</td>\n",
       "    </tr>\n",
       "    <tr>\n",
       "      <th>12079</th>\n",
       "      <td>12080</td>\n",
       "      <td>2844</td>\n",
       "      <td>2085</td>\n",
       "      <td>3</td>\n",
       "      <td>8689.074445</td>\n",
       "    </tr>\n",
       "    <tr>\n",
       "      <th>12080</th>\n",
       "      <td>12081</td>\n",
       "      <td>472</td>\n",
       "      <td>7935</td>\n",
       "      <td>2</td>\n",
       "      <td>4697.213624</td>\n",
       "    </tr>\n",
       "    <tr>\n",
       "      <th>12081</th>\n",
       "      <td>12082</td>\n",
       "      <td>770</td>\n",
       "      <td>5834</td>\n",
       "      <td>4</td>\n",
       "      <td>13155.678790</td>\n",
       "    </tr>\n",
       "    <tr>\n",
       "      <th>12082</th>\n",
       "      <td>12083</td>\n",
       "      <td>124</td>\n",
       "      <td>2806</td>\n",
       "      <td>4</td>\n",
       "      <td>7703.426315</td>\n",
       "    </tr>\n",
       "  </tbody>\n",
       "</table>\n",
       "<p>12083 rows × 5 columns</p>\n",
       "</div>"
      ],
      "text/plain": [
       "       doeid  cdd65  hdd65 regionc       nweight\n",
       "0          1   1080   4742       2   2471.679705\n",
       "1          2    199   2662       4   8599.172010\n",
       "2          3    505   6233       1   8969.915921\n",
       "3          4    672   6034       2  18003.639600\n",
       "4          5    702   5388       1   5999.605242\n",
       "...      ...    ...    ...     ...           ...\n",
       "12078  12079    332   7671       2  10219.802880\n",
       "12079  12080   2844   2085       3   8689.074445\n",
       "12080  12081    472   7935       2   4697.213624\n",
       "12081  12082    770   5834       4  13155.678790\n",
       "12082  12083    124   2806       4   7703.426315\n",
       "\n",
       "[12083 rows x 5 columns]"
      ]
     },
     "metadata": {},
     "output_type": "display_data"
    }
   ],
   "source": [
    "display(data_2009_1)"
   ]
  },
  {
   "cell_type": "code",
   "execution_count": 204,
   "metadata": {},
   "outputs": [
    {
     "data": {
      "text/html": [
       "<div>\n",
       "<style scoped>\n",
       "    .dataframe tbody tr th:only-of-type {\n",
       "        vertical-align: middle;\n",
       "    }\n",
       "\n",
       "    .dataframe tbody tr th {\n",
       "        vertical-align: top;\n",
       "    }\n",
       "\n",
       "    .dataframe thead th {\n",
       "        text-align: right;\n",
       "    }\n",
       "</style>\n",
       "<table border=\"1\" class=\"dataframe\">\n",
       "  <thead>\n",
       "    <tr style=\"text-align: right;\">\n",
       "      <th></th>\n",
       "      <th>doeid</th>\n",
       "      <th>cdd65</th>\n",
       "      <th>hdd65</th>\n",
       "      <th>regionc</th>\n",
       "      <th>nweight</th>\n",
       "    </tr>\n",
       "  </thead>\n",
       "  <tbody>\n",
       "    <tr>\n",
       "      <th>0</th>\n",
       "      <td>10001</td>\n",
       "      <td>1768</td>\n",
       "      <td>2031</td>\n",
       "      <td>4</td>\n",
       "      <td>12085.16227</td>\n",
       "    </tr>\n",
       "    <tr>\n",
       "      <th>1</th>\n",
       "      <td>10002</td>\n",
       "      <td>2795</td>\n",
       "      <td>1915</td>\n",
       "      <td>3</td>\n",
       "      <td>14410.19627</td>\n",
       "    </tr>\n",
       "    <tr>\n",
       "      <th>2</th>\n",
       "      <td>10003</td>\n",
       "      <td>2235</td>\n",
       "      <td>2263</td>\n",
       "      <td>3</td>\n",
       "      <td>23325.95385</td>\n",
       "    </tr>\n",
       "    <tr>\n",
       "      <th>3</th>\n",
       "      <td>10004</td>\n",
       "      <td>1374</td>\n",
       "      <td>3754</td>\n",
       "      <td>2</td>\n",
       "      <td>12165.33319</td>\n",
       "    </tr>\n",
       "    <tr>\n",
       "      <th>4</th>\n",
       "      <td>10005</td>\n",
       "      <td>993</td>\n",
       "      <td>5401</td>\n",
       "      <td>1</td>\n",
       "      <td>16717.67092</td>\n",
       "    </tr>\n",
       "    <tr>\n",
       "      <th>...</th>\n",
       "      <td>...</td>\n",
       "      <td>...</td>\n",
       "      <td>...</td>\n",
       "      <td>...</td>\n",
       "      <td>...</td>\n",
       "    </tr>\n",
       "    <tr>\n",
       "      <th>5681</th>\n",
       "      <td>15682</td>\n",
       "      <td>632</td>\n",
       "      <td>6470</td>\n",
       "      <td>2</td>\n",
       "      <td>14190.77054</td>\n",
       "    </tr>\n",
       "    <tr>\n",
       "      <th>5682</th>\n",
       "      <td>15683</td>\n",
       "      <td>2055</td>\n",
       "      <td>2512</td>\n",
       "      <td>3</td>\n",
       "      <td>13617.68710</td>\n",
       "    </tr>\n",
       "    <tr>\n",
       "      <th>5683</th>\n",
       "      <td>15684</td>\n",
       "      <td>937</td>\n",
       "      <td>5941</td>\n",
       "      <td>2</td>\n",
       "      <td>20365.17745</td>\n",
       "    </tr>\n",
       "    <tr>\n",
       "      <th>5684</th>\n",
       "      <td>15685</td>\n",
       "      <td>3464</td>\n",
       "      <td>1438</td>\n",
       "      <td>3</td>\n",
       "      <td>15110.19635</td>\n",
       "    </tr>\n",
       "    <tr>\n",
       "      <th>5685</th>\n",
       "      <td>15686</td>\n",
       "      <td>1394</td>\n",
       "      <td>4934</td>\n",
       "      <td>2</td>\n",
       "      <td>31921.75621</td>\n",
       "    </tr>\n",
       "  </tbody>\n",
       "</table>\n",
       "<p>5686 rows × 5 columns</p>\n",
       "</div>"
      ],
      "text/plain": [
       "      doeid  cdd65  hdd65 regionc      nweight\n",
       "0     10001   1768   2031       4  12085.16227\n",
       "1     10002   2795   1915       3  14410.19627\n",
       "2     10003   2235   2263       3  23325.95385\n",
       "3     10004   1374   3754       2  12165.33319\n",
       "4     10005    993   5401       1  16717.67092\n",
       "...     ...    ...    ...     ...          ...\n",
       "5681  15682    632   6470       2  14190.77054\n",
       "5682  15683   2055   2512       3  13617.68710\n",
       "5683  15684    937   5941       2  20365.17745\n",
       "5684  15685   3464   1438       3  15110.19635\n",
       "5685  15686   1394   4934       2  31921.75621\n",
       "\n",
       "[5686 rows x 5 columns]"
      ]
     },
     "metadata": {},
     "output_type": "display_data"
    }
   ],
   "source": [
    "display(data_2015_1)"
   ]
  },
  {
   "cell_type": "code",
   "execution_count": 15,
   "metadata": {},
   "outputs": [
    {
     "name": "stdout",
     "output_type": "stream",
     "text": [
      "   doeid replicate number         value\n",
      "0      1     brr_weight_1   3628.305158\n",
      "1      2     brr_weight_1   4408.308000\n",
      "2      3     brr_weight_1  13664.732100\n",
      "3      4     brr_weight_1   9456.435434\n",
      "4      5     brr_weight_1   8659.554041\n",
      "   doeid replicate number         value\n",
      "0  10001           BRRWT1  16555.311270\n",
      "1  10002           BRRWT1  21486.287200\n",
      "2  10003           BRRWT1  12297.436760\n",
      "3  10004           BRRWT1  18553.958900\n",
      "4  10005           BRRWT1   8075.744168\n"
     ]
    }
   ],
   "source": [
    "## (b)\n",
    "## 2009 data replicated weight, l_format_2009 is the organized data\n",
    "data_2009_2 = data_2009_weight.drop(columns = ['NWEIGHT'])\n",
    "data_2009_2 = data_2009_2.rename(str.lower, axis = 'columns')\n",
    "col_09 = [i for i in data_2009_2.columns[1:]]\n",
    "l_format_2009 = pd.melt(data_2009_2, id_vars = ['doeid'], value_vars = col_09)\n",
    "l_format_2009 = l_format_2009.rename(columns = {'variable' : 'replicate number'})\n",
    "\n",
    "##  2015 data replicated weight, l_format_2015 is the organized data\n",
    "pattern = re.compile(r'BRRWT([\\d])+')\n",
    "match_l = [pattern.match(i) for i in list(data_2015.columns)]\n",
    "match_list = filter(None, match_l) # delete None value in match result\n",
    "match_result = [i.group(0) for i in match_list]\n",
    "col_15 = ['DOEID']\n",
    "col_15.extend(match_result)\n",
    "data_2015_2 = data_2015[col_15] \n",
    "l_format_2015 = pd.melt(data_2015_2, id_vars = ['DOEID'], value_vars = match_result)\n",
    "l_format_2015 = l_format_2015.rename(columns = {'DOEID' : 'doeid', 'variable' : 'replicate number'})"
   ]
  },
  {
   "cell_type": "code",
   "execution_count": 34,
   "metadata": {},
   "outputs": [
    {
     "data": {
      "text/html": [
       "<div>\n",
       "<style scoped>\n",
       "    .dataframe tbody tr th:only-of-type {\n",
       "        vertical-align: middle;\n",
       "    }\n",
       "\n",
       "    .dataframe tbody tr th {\n",
       "        vertical-align: top;\n",
       "    }\n",
       "\n",
       "    .dataframe thead th {\n",
       "        text-align: right;\n",
       "    }\n",
       "</style>\n",
       "<table border=\"1\" class=\"dataframe\">\n",
       "  <thead>\n",
       "    <tr style=\"text-align: right;\">\n",
       "      <th></th>\n",
       "      <th>doeid</th>\n",
       "      <th>replicate number</th>\n",
       "      <th>value</th>\n",
       "    </tr>\n",
       "  </thead>\n",
       "  <tbody>\n",
       "    <tr>\n",
       "      <th>0</th>\n",
       "      <td>1</td>\n",
       "      <td>brr_weight_1</td>\n",
       "      <td>3628.305158</td>\n",
       "    </tr>\n",
       "    <tr>\n",
       "      <th>1</th>\n",
       "      <td>2</td>\n",
       "      <td>brr_weight_1</td>\n",
       "      <td>4408.308000</td>\n",
       "    </tr>\n",
       "    <tr>\n",
       "      <th>2</th>\n",
       "      <td>3</td>\n",
       "      <td>brr_weight_1</td>\n",
       "      <td>13664.732100</td>\n",
       "    </tr>\n",
       "    <tr>\n",
       "      <th>3</th>\n",
       "      <td>4</td>\n",
       "      <td>brr_weight_1</td>\n",
       "      <td>9456.435434</td>\n",
       "    </tr>\n",
       "    <tr>\n",
       "      <th>4</th>\n",
       "      <td>5</td>\n",
       "      <td>brr_weight_1</td>\n",
       "      <td>8659.554041</td>\n",
       "    </tr>\n",
       "    <tr>\n",
       "      <th>...</th>\n",
       "      <td>...</td>\n",
       "      <td>...</td>\n",
       "      <td>...</td>\n",
       "    </tr>\n",
       "    <tr>\n",
       "      <th>2948247</th>\n",
       "      <td>12079</td>\n",
       "      <td>brr_weight_244</td>\n",
       "      <td>15669.237850</td>\n",
       "    </tr>\n",
       "    <tr>\n",
       "      <th>2948248</th>\n",
       "      <td>12080</td>\n",
       "      <td>brr_weight_244</td>\n",
       "      <td>3976.693639</td>\n",
       "    </tr>\n",
       "    <tr>\n",
       "      <th>2948249</th>\n",
       "      <td>12081</td>\n",
       "      <td>brr_weight_244</td>\n",
       "      <td>2479.082636</td>\n",
       "    </tr>\n",
       "    <tr>\n",
       "      <th>2948250</th>\n",
       "      <td>12082</td>\n",
       "      <td>brr_weight_244</td>\n",
       "      <td>17663.466590</td>\n",
       "    </tr>\n",
       "    <tr>\n",
       "      <th>2948251</th>\n",
       "      <td>12083</td>\n",
       "      <td>brr_weight_244</td>\n",
       "      <td>3836.031339</td>\n",
       "    </tr>\n",
       "  </tbody>\n",
       "</table>\n",
       "<p>2948252 rows × 3 columns</p>\n",
       "</div>"
      ],
      "text/plain": [
       "         doeid replicate number         value\n",
       "0            1     brr_weight_1   3628.305158\n",
       "1            2     brr_weight_1   4408.308000\n",
       "2            3     brr_weight_1  13664.732100\n",
       "3            4     brr_weight_1   9456.435434\n",
       "4            5     brr_weight_1   8659.554041\n",
       "...        ...              ...           ...\n",
       "2948247  12079   brr_weight_244  15669.237850\n",
       "2948248  12080   brr_weight_244   3976.693639\n",
       "2948249  12081   brr_weight_244   2479.082636\n",
       "2948250  12082   brr_weight_244  17663.466590\n",
       "2948251  12083   brr_weight_244   3836.031339\n",
       "\n",
       "[2948252 rows x 3 columns]"
      ]
     },
     "metadata": {},
     "output_type": "display_data"
    }
   ],
   "source": [
    "display(l_format_2009)"
   ]
  },
  {
   "cell_type": "code",
   "execution_count": 35,
   "metadata": {},
   "outputs": [
    {
     "data": {
      "text/html": [
       "<div>\n",
       "<style scoped>\n",
       "    .dataframe tbody tr th:only-of-type {\n",
       "        vertical-align: middle;\n",
       "    }\n",
       "\n",
       "    .dataframe tbody tr th {\n",
       "        vertical-align: top;\n",
       "    }\n",
       "\n",
       "    .dataframe thead th {\n",
       "        text-align: right;\n",
       "    }\n",
       "</style>\n",
       "<table border=\"1\" class=\"dataframe\">\n",
       "  <thead>\n",
       "    <tr style=\"text-align: right;\">\n",
       "      <th></th>\n",
       "      <th>doeid</th>\n",
       "      <th>replicate number</th>\n",
       "      <th>value</th>\n",
       "    </tr>\n",
       "  </thead>\n",
       "  <tbody>\n",
       "    <tr>\n",
       "      <th>0</th>\n",
       "      <td>10001</td>\n",
       "      <td>BRRWT1</td>\n",
       "      <td>16555.311270</td>\n",
       "    </tr>\n",
       "    <tr>\n",
       "      <th>1</th>\n",
       "      <td>10002</td>\n",
       "      <td>BRRWT1</td>\n",
       "      <td>21486.287200</td>\n",
       "    </tr>\n",
       "    <tr>\n",
       "      <th>2</th>\n",
       "      <td>10003</td>\n",
       "      <td>BRRWT1</td>\n",
       "      <td>12297.436760</td>\n",
       "    </tr>\n",
       "    <tr>\n",
       "      <th>3</th>\n",
       "      <td>10004</td>\n",
       "      <td>BRRWT1</td>\n",
       "      <td>18553.958900</td>\n",
       "    </tr>\n",
       "    <tr>\n",
       "      <th>4</th>\n",
       "      <td>10005</td>\n",
       "      <td>BRRWT1</td>\n",
       "      <td>8075.744168</td>\n",
       "    </tr>\n",
       "    <tr>\n",
       "      <th>...</th>\n",
       "      <td>...</td>\n",
       "      <td>...</td>\n",
       "      <td>...</td>\n",
       "    </tr>\n",
       "    <tr>\n",
       "      <th>545851</th>\n",
       "      <td>15682</td>\n",
       "      <td>BRRWT96</td>\n",
       "      <td>20183.445250</td>\n",
       "    </tr>\n",
       "    <tr>\n",
       "      <th>545852</th>\n",
       "      <td>15683</td>\n",
       "      <td>BRRWT96</td>\n",
       "      <td>19681.916720</td>\n",
       "    </tr>\n",
       "    <tr>\n",
       "      <th>545853</th>\n",
       "      <td>15684</td>\n",
       "      <td>BRRWT96</td>\n",
       "      <td>29148.112150</td>\n",
       "    </tr>\n",
       "    <tr>\n",
       "      <th>545854</th>\n",
       "      <td>15685</td>\n",
       "      <td>BRRWT96</td>\n",
       "      <td>20695.042680</td>\n",
       "    </tr>\n",
       "    <tr>\n",
       "      <th>545855</th>\n",
       "      <td>15686</td>\n",
       "      <td>BRRWT96</td>\n",
       "      <td>17836.113110</td>\n",
       "    </tr>\n",
       "  </tbody>\n",
       "</table>\n",
       "<p>545856 rows × 3 columns</p>\n",
       "</div>"
      ],
      "text/plain": [
       "        doeid replicate number         value\n",
       "0       10001           BRRWT1  16555.311270\n",
       "1       10002           BRRWT1  21486.287200\n",
       "2       10003           BRRWT1  12297.436760\n",
       "3       10004           BRRWT1  18553.958900\n",
       "4       10005           BRRWT1   8075.744168\n",
       "...       ...              ...           ...\n",
       "545851  15682          BRRWT96  20183.445250\n",
       "545852  15683          BRRWT96  19681.916720\n",
       "545853  15684          BRRWT96  29148.112150\n",
       "545854  15685          BRRWT96  20695.042680\n",
       "545855  15686          BRRWT96  17836.113110\n",
       "\n",
       "[545856 rows x 3 columns]"
      ]
     },
     "metadata": {},
     "output_type": "display_data"
    }
   ],
   "source": [
    "display(l_format_2015)"
   ]
  },
  {
   "cell_type": "code",
   "execution_count": 56,
   "metadata": {},
   "outputs": [],
   "source": [
    "# Question 2\n",
    "\n",
    "## (a)\n",
    "## year 2009 \n",
    "### heating and cooling average point estimate : theta\n",
    "region_dict = {'1' : 'Northeast Census Region',\n",
    "               '2' : 'Midwest Census Region',\n",
    "               '3' : 'South Census Region',\n",
    "               '4' : 'West Census Region'}\n",
    "region_list = data_2009_1['regionc'].unique()\n",
    "heat_weighted_avr_09 = {}\n",
    "cool_weighted_avr_09 = {}\n",
    "heat_weighted_avr_15 = {}\n",
    "cool_weighted_avr_15 = {}\n",
    "for i in region_list:\n",
    "    # 2009\n",
    "    sub_data_09 = data_2009_1.loc[data_2009_1['regionc'] == i, ]\n",
    "    heat_09 = pd.Series(sub_data_09['hdd65'])\n",
    "    cool_09 = pd.Series(sub_data_09['cdd65'])\n",
    "    weight_09 = pd.Series(sub_data_09['nweight'])\n",
    "    heat_avr_09 = sum(heat_09 * weight_09) / sum(weight_09)\n",
    "    cool_avr_09 = sum(cool_09 * weight_09) / sum(weight_09)\n",
    "    heat_weighted_avr_09.update({region_dict[str(i)]+'09' : heat_avr_09})\n",
    "    cool_weighted_avr_09.update({region_dict[str(i)]+'09' : cool_avr_09})\n",
    "    # 2015\n",
    "    sub_data_15 = data_2015_1.loc[data_2015_1['regionc'] == i, ]\n",
    "    heat_15 = pd.Series(sub_data_15['hdd65'])\n",
    "    cool_15 = pd.Series(sub_data_15['cdd65'])\n",
    "    weight_15 = pd.Series(sub_data_15['nweight'])\n",
    "    heat_avr_15 = sum(heat_15 * weight_15) / sum(weight_15)\n",
    "    cool_avr_15 = sum(cool_15 * weight_15) / sum(weight_15)\n",
    "    heat_weighted_avr_15.update({region_dict[str(i)]+'15' : heat_avr_15})\n",
    "    cool_weighted_avr_15.update({region_dict[str(i)]+'15' : cool_avr_15})"
   ]
  },
  {
   "cell_type": "code",
   "execution_count": 91,
   "metadata": {},
   "outputs": [
    {
     "name": "stdout",
     "output_type": "stream",
     "text": [
      "heat_09: {'Midwest Census Region09': 6325.3370557584785, 'West Census Region09': 3259.641522235592, 'Northeast Census Region09': 5700.988117899617, 'South Census Region09': 2696.6675541636932} \n",
      "\n",
      "cool_09: {'Midwest Census Region09': 660.8883799886537, 'West Census Region09': 1328.642133877938, 'Northeast Census Region09': 680.7151284720687, 'South Census Region09': 2207.728366086422} \n",
      "\n",
      "heat_15: {'Midwest Census Region15': 5785.490455651489, 'West Census Region15': 2814.83069243554, 'Northeast Census Region15': 5695.6730027173635, 'South Census Region15': 2211.8799008325286} \n",
      "\n",
      "cool_15: {'Midwest Census Region15': 956.0743124095824, 'West Census Region15': 1576.7742038635408, 'Northeast Census Region15': 983.9198613817919, 'South Census Region15': 2639.8509877725355}\n"
     ]
    }
   ],
   "source": [
    "print('heat_09:', heat_weighted_avr_09, '\\n')\n",
    "print('cool_09:', cool_weighted_avr_09, '\\n')\n",
    "print('heat_15:', heat_weighted_avr_15, '\\n')\n",
    "print('cool_15:', cool_weighted_avr_15)"
   ]
  },
  {
   "cell_type": "code",
   "execution_count": 70,
   "metadata": {},
   "outputs": [],
   "source": [
    "### heating and cooling variance : var(theta)\n",
    "data_2009_all = data_2009_1.merge(data_2009_2, on = 'doeid')\n",
    "heat_09_thetar = {}\n",
    "heat_15_thetar = {}\n",
    "cool_09_thetar = {}\n",
    "cool_15_thetar = {}\n",
    "\n",
    "# var 2009 \n",
    "for i in region_list:\n",
    "    thetar_heat_l = []\n",
    "    thetar_cool_l = []\n",
    "    for j in col_09:\n",
    "        # heat\n",
    "        subdata_09 = data_2009_all.loc[data_2009_all['regionc'] == i, :]\n",
    "        heat_r_09 = pd.Series(subdata_09['hdd65'])\n",
    "        cool_r_09 = pd.Series(subdata_09['cdd65'])\n",
    "        weight_r_09 = pd.Series(subdata_09[j])\n",
    "        theta_heat_r = sum(heat_r_09 * weight_r_09) / sum(weight_r_09) \n",
    "        theta_cool_r = sum(cool_r_09 * weight_r_09) / sum(weight_r_09) \n",
    "        thetar_heat_l.append(theta_heat_r)\n",
    "        thetar_cool_l.append(theta_cool_r)\n",
    "    key = region_dict[str(i)] + '09'\n",
    "    theta_heat = heat_weighted_avr_09[key]\n",
    "    theta_cool = cool_weighted_avr_09[key]\n",
    "    R = len(thetar_l)\n",
    "    epsilon = 0.5\n",
    "    dev_heat = [pow(k - theta_heat, 2) for k in thetar_heat_l]\n",
    "    dev_cool = [pow(m - theta_cool, 2) for m in thetar_cool_l]\n",
    "    var_heat_thetar = 1 / (R * pow(1 - epsilon, 2)) * sum(dev_heat) \n",
    "    var_cool_thetar = 1 / (R * pow(1 - epsilon, 2)) * sum(dev_cool) \n",
    "    heat_09_thetar.update({key : var_heat_thetar})\n",
    "    cool_09_thetar.update({key : var_cool_thetar})\n",
    "    "
   ]
  },
  {
   "cell_type": "code",
   "execution_count": 78,
   "metadata": {
    "lines_to_next_cell": 2
   },
   "outputs": [],
   "source": [
    "# var 2015\n",
    "match_result = [i.lower() for i in match_result]\n",
    "data_2015_2 = data_2015_2.rename(str.lower, axis = 'columns')\n",
    "data_2015_all = data_2015_1.merge(data_2015_2, on = 'doeid')\n",
    "for i in region_list:\n",
    "    thetar_heat_l = []\n",
    "    thetar_cool_l = []\n",
    "    for j in match_result:\n",
    "        # heat\n",
    "        subdata_15 = data_2015_all.loc[data_2015_all['regionc'] == i, :]\n",
    "        heat_r_15 = pd.Series(subdata_15['hdd65'])\n",
    "        cool_r_15 = pd.Series(subdata_15['cdd65'])\n",
    "        weight_r_15 = pd.Series(subdata_15[j])\n",
    "        theta_heat_r = sum(heat_r_15 * weight_r_15) / sum(weight_r_15) \n",
    "        theta_cool_r = sum(cool_r_15 * weight_r_15) / sum(weight_r_15) \n",
    "        thetar_heat_l.append(theta_heat_r)\n",
    "        thetar_cool_l.append(theta_cool_r)\n",
    "    key = region_dict[str(i)] + '15'\n",
    "    theta_heat = heat_weighted_avr_15[key]\n",
    "    theta_cool = cool_weighted_avr_15[key]\n",
    "    R = len(thetar_l)\n",
    "    epsilon = 0.5\n",
    "    dev_heat = [pow(k - theta_heat, 2) for k in thetar_heat_l]\n",
    "    dev_cool = [pow(m - theta_cool, 2) for m in thetar_cool_l]\n",
    "    var_heat_thetar = 1 / (R * pow(1 - epsilon, 2)) * sum(dev_heat) \n",
    "    var_cool_thetar = 1 / (R * pow(1 - epsilon, 2)) * sum(dev_cool) \n",
    "    heat_15_thetar.update({key : var_heat_thetar})\n",
    "    cool_15_thetar.update({key : var_cool_thetar})"
   ]
  },
  {
   "cell_type": "code",
   "execution_count": 94,
   "metadata": {},
   "outputs": [
    {
     "name": "stdout",
     "output_type": "stream",
     "text": [
      "heat_09_mid: 6233.761001211303 6416.913110305654\n",
      "heat_09_wes: 3092.525013801265 3426.7580306699197\n",
      "heat_09_nor: 5632.200529213848 5769.775706585385\n",
      "heat_09_sou: 2615.6978659950128 2777.6372423323737\n"
     ]
    }
   ],
   "source": [
    "# confidence interval for each region: [mean - sd * 1.96, mean + sd * 1.96]\n",
    "# dict region elements: Midwest Census Region09/15, West Census Region09/15, Northeast Census Region09/15 \n",
    "# South Census Region09/15 \n",
    "## heat_09\n",
    "h_Mid_09_lower = heat_weighted_avr_09['Midwest Census Region09'] - 1.96 * \\\n",
    "                                                         np.sqrt(heat_09_thetar['Midwest Census Region09'])\n",
    "h_Mid_09_upper = heat_weighted_avr_09['Midwest Census Region09'] + 1.96 * \\\n",
    "                                                         np.sqrt(heat_09_thetar['Midwest Census Region09'])\n",
    "h_Wes_09_lower = heat_weighted_avr_09['West Census Region09'] - 1.96 * np.sqrt(heat_09_thetar['West Census Region09'])\n",
    "h_Wes_09_upper = heat_weighted_avr_09['West Census Region09'] + 1.96 * np.sqrt(heat_09_thetar['West Census Region09'])\n",
    "h_Nor_09_lower = heat_weighted_avr_09['Northeast Census Region09'] - 1.96 * \\\n",
    "                                                         np.sqrt(heat_09_thetar['Northeast Census Region09'])\n",
    "h_Nor_09_upper = heat_weighted_avr_09['Northeast Census Region09'] + 1.96 * \\\n",
    "                                                         np.sqrt(heat_09_thetar['Northeast Census Region09'])\n",
    "h_Sou_09_lower = heat_weighted_avr_09['South Census Region09'] - 1.96 * np.sqrt(heat_09_thetar['South Census Region09'])\n",
    "h_Sou_09_upper = heat_weighted_avr_09['South Census Region09'] + 1.96 * np.sqrt(heat_09_thetar['South Census Region09'])\n",
    "print('heat_09_mid:', h_Mid_09_lower, h_Mid_09_upper)\n",
    "print('heat_09_wes:', h_Wes_09_lower, h_Wes_09_upper)\n",
    "print('heat_09_nor:', h_Nor_09_lower, h_Nor_09_upper)\n",
    "print('heat_09_sou:', h_Sou_09_lower, h_Sou_09_upper)"
   ]
  },
  {
   "cell_type": "code",
   "execution_count": 95,
   "metadata": {},
   "outputs": [
    {
     "name": "stdout",
     "output_type": "stream",
     "text": [
      "cool_09_mid: 631.9912229300428 689.7855370472646\n",
      "cool_09_wes: 1270.2249128469964 1387.0593549088796\n",
      "cool_09_nor: 660.1227896376736 701.3074673064639\n",
      "cool_09_sou: 2150.646862639162 2264.8098695336816\n"
     ]
    }
   ],
   "source": [
    "## cool_09\n",
    "c_Mid_09_lower = cool_weighted_avr_09['Midwest Census Region09'] - 1.96 * \\\n",
    "                                                         np.sqrt(cool_09_thetar['Midwest Census Region09'])\n",
    "c_Mid_09_upper = cool_weighted_avr_09['Midwest Census Region09'] + 1.96 * \\\n",
    "                                                         np.sqrt(cool_09_thetar['Midwest Census Region09'])\n",
    "c_Wes_09_lower = cool_weighted_avr_09['West Census Region09'] - 1.96 * np.sqrt(cool_09_thetar['West Census Region09'])\n",
    "c_Wes_09_upper = cool_weighted_avr_09['West Census Region09'] + 1.96 * np.sqrt(cool_09_thetar['West Census Region09'])\n",
    "c_Nor_09_lower = cool_weighted_avr_09['Northeast Census Region09'] - 1.96 * \\\n",
    "                                                         np.sqrt(cool_09_thetar['Northeast Census Region09'])\n",
    "c_Nor_09_upper = cool_weighted_avr_09['Northeast Census Region09'] + 1.96 * \\\n",
    "                                                         np.sqrt(cool_09_thetar['Northeast Census Region09'])\n",
    "c_Sou_09_lower = cool_weighted_avr_09['South Census Region09'] - 1.96 * np.sqrt(cool_09_thetar['South Census Region09'])\n",
    "c_Sou_09_upper = cool_weighted_avr_09['South Census Region09'] + 1.96 * np.sqrt(cool_09_thetar['South Census Region09'])\n",
    "print('cool_09_mid:', c_Mid_09_lower, c_Mid_09_upper)\n",
    "print('cool_09_wes:', c_Wes_09_lower, c_Wes_09_upper)\n",
    "print('cool_09_nor:', c_Nor_09_lower, c_Nor_09_upper)\n",
    "print('cool_09_sou:', c_Sou_09_lower, c_Sou_09_upper)"
   ]
  },
  {
   "cell_type": "code",
   "execution_count": 98,
   "metadata": {},
   "outputs": [
    {
     "name": "stdout",
     "output_type": "stream",
     "text": [
      "heat_15_mid: 5690.955155872529 5880.02575543045\n",
      "heat_15_wes: 2695.778174015915 2933.8832108551655\n",
      "heat_15_nor: 5593.055168674183 5798.290836760544\n",
      "heat_15_sou: 2114.2547115732864 2309.505090091771\n"
     ]
    }
   ],
   "source": [
    "## heat_15\n",
    "h_Mid_15_lower = heat_weighted_avr_15['Midwest Census Region15'] - 1.96 * \\\n",
    "                                                         np.sqrt(heat_15_thetar['Midwest Census Region15'])\n",
    "h_Mid_15_upper = heat_weighted_avr_15['Midwest Census Region15'] + 1.96 * \\\n",
    "                                                         np.sqrt(heat_15_thetar['Midwest Census Region15'])\n",
    "h_Wes_15_lower = heat_weighted_avr_15['West Census Region15'] - 1.96 * np.sqrt(heat_15_thetar['West Census Region15'])\n",
    "h_Wes_15_upper = heat_weighted_avr_15['West Census Region15'] + 1.96 * np.sqrt(heat_15_thetar['West Census Region15'])\n",
    "h_Nor_15_lower = heat_weighted_avr_15['Northeast Census Region15'] - 1.96 * \\\n",
    "                                                         np.sqrt(heat_15_thetar['Northeast Census Region15'])\n",
    "h_Nor_15_upper = heat_weighted_avr_15['Northeast Census Region15'] + 1.96 * \\\n",
    "                                                         np.sqrt(heat_15_thetar['Northeast Census Region15'])\n",
    "h_Sou_15_lower = heat_weighted_avr_15['South Census Region15'] - 1.96 * np.sqrt(heat_15_thetar['South Census Region15'])\n",
    "h_Sou_15_upper = heat_weighted_avr_15['South Census Region15'] + 1.96 * np.sqrt(heat_15_thetar['South Census Region15'])\n",
    "print('heat_15_mid:', h_Mid_15_lower, h_Mid_15_upper)\n",
    "print('heat_15_wes:', h_Wes_15_lower, h_Wes_15_upper)\n",
    "print('heat_15_nor:', h_Nor_15_lower, h_Nor_15_upper)\n",
    "print('heat_15_sou:', h_Sou_15_lower, h_Sou_15_upper)"
   ]
  },
  {
   "cell_type": "code",
   "execution_count": 99,
   "metadata": {},
   "outputs": [
    {
     "name": "stdout",
     "output_type": "stream",
     "text": [
      "cool_15_mid: 917.404015993379 994.7446088257858\n",
      "cool_15_wes: 1451.4915744956056 1702.056833231476\n",
      "cool_15_nor: 943.1422469883894 1024.6974757751943\n",
      "cool_15_sou: 2567.622397655858 2712.079577889213\n"
     ]
    }
   ],
   "source": [
    "## cool_15\n",
    "c_Mid_15_lower = cool_weighted_avr_15['Midwest Census Region15'] - 1.96 * \\\n",
    "                                                          np.sqrt(cool_15_thetar['Midwest Census Region15'])\n",
    "c_Mid_15_upper = cool_weighted_avr_15['Midwest Census Region15'] + 1.96 * \\\n",
    "                                                          np.sqrt(cool_15_thetar['Midwest Census Region15'])\n",
    "c_Wes_15_lower = cool_weighted_avr_15['West Census Region15'] - 1.96 * np.sqrt(cool_15_thetar['West Census Region15'])\n",
    "c_Wes_15_upper = cool_weighted_avr_15['West Census Region15'] + 1.96 * np.sqrt(cool_15_thetar['West Census Region15'])\n",
    "c_Nor_15_lower = cool_weighted_avr_15['Northeast Census Region15'] - 1.96 * \\\n",
    "                                                          np.sqrt(cool_15_thetar['Northeast Census Region15'])\n",
    "c_Nor_15_upper = cool_weighted_avr_15['Northeast Census Region15'] + 1.96 * \\\n",
    "                                                          np.sqrt(cool_15_thetar['Northeast Census Region15'])\n",
    "c_Sou_15_lower = cool_weighted_avr_15['South Census Region15'] - 1.96 * np.sqrt(cool_15_thetar['South Census Region15'])\n",
    "c_Sou_15_upper = cool_weighted_avr_15['South Census Region15'] + 1.96 * np.sqrt(cool_15_thetar['South Census Region15'])\n",
    "print('cool_15_mid:', c_Mid_15_lower, c_Mid_15_upper)\n",
    "print('cool_15_wes:', c_Wes_15_lower, c_Wes_15_upper)\n",
    "print('cool_15_nor:', c_Nor_15_lower, c_Nor_15_upper)\n",
    "print('cool_15_sou:', c_Sou_15_lower, c_Sou_15_upper)"
   ]
  },
  {
   "cell_type": "markdown",
   "metadata": {},
   "source": [
    "### Table 1 average point estimate and confidence interval\n",
    "\n",
    "|region|09 average heat|09 heat 95% CI|09 average cool|09 cool 95% CI|15 average heat|15 heat 95% CI|15 average cool|15 cool 95% CI|\n",
    "|:----:|:-------------:|:------------:|:-------------:|:------------:|:-------------:|:------------:|:-------------:|:------------:|\n",
    "|Midwest  |6325.337|[6233.761, 6416.913]|660.888|[631.991, 689.786]|5785.490|[5690.955, 5880.026]|956.074|[917.404, 994.745]|\n",
    "|West    |3259.642|[3092.525, 3426.758]|1328.642|[1270.225, 1387.059]|2814.831|[2695.778, 2933.883]|1576.774|[1451.492, 1702.057]|\n",
    "|Northeast|5700.988|[5632.201, 5769.776]|680.715|[660.123, 701.307]|5695.673|[5593.055, 5798.291]|983.920|[943.142, 1024.697]|\n",
    "|South   |2696.668|[2615.698, 2777.637]|2207.728|[2150.647, 2264.810]|2211.880|[2114.255, 2309.505]|2639.851|[2567.622, 2712.080]|"
   ]
  },
  {
   "cell_type": "code",
   "execution_count": 102,
   "metadata": {},
   "outputs": [
    {
     "name": "stdout",
     "output_type": "stream",
     "text": [
      "mid_heat: 539.8466001069892 \n",
      "\n",
      "mid_cool: -295.1859324209287 \n",
      "\n",
      "wes_heat: 444.81082980005203 \n",
      "\n",
      "wes_cool: -248.1320699856028 \n",
      "\n",
      "nor_heat: 5.3151151822530665 \n",
      "\n",
      "nor_cool: -303.20473290972313 \n",
      "\n",
      "sou_heat: 484.7876533311646 \n",
      "\n",
      "sou_cool: -432.1226216861137 \n",
      "\n"
     ]
    }
   ],
   "source": [
    "## (b)\n",
    "# heat&cool difference point estimate among each region\n",
    "mid_heat_diff = heat_weighted_avr_09['Midwest Census Region09'] - heat_weighted_avr_15['Midwest Census Region15']\n",
    "mid_cool_diff = cool_weighted_avr_09['Midwest Census Region09'] - cool_weighted_avr_15['Midwest Census Region15']\n",
    "wes_heat_diff = heat_weighted_avr_09['West Census Region09'] - heat_weighted_avr_15['West Census Region15']\n",
    "wes_cool_diff = cool_weighted_avr_09['West Census Region09'] - cool_weighted_avr_15['West Census Region15']\n",
    "nor_heat_diff = heat_weighted_avr_09['Northeast Census Region09'] - heat_weighted_avr_15['Northeast Census Region15']\n",
    "nor_cool_diff = cool_weighted_avr_09['Northeast Census Region09'] - cool_weighted_avr_15['Northeast Census Region15']\n",
    "sou_heat_diff = heat_weighted_avr_09['South Census Region09'] - heat_weighted_avr_15['South Census Region15']\n",
    "sou_cool_diff = cool_weighted_avr_09['South Census Region09'] - cool_weighted_avr_15['South Census Region15']\n",
    "print('mid_heat:', mid_heat_diff, '\\n')\n",
    "print('mid_cool:', mid_cool_diff, '\\n')\n",
    "print('wes_heat:', wes_heat_diff, '\\n')\n",
    "print('wes_cool:', wes_cool_diff, '\\n')\n",
    "print('nor_heat:', nor_heat_diff, '\\n')\n",
    "print('nor_cool:', nor_cool_diff, '\\n')\n",
    "print('sou_heat:', sou_heat_diff, '\\n')\n",
    "print('sou_cool:', sou_cool_diff, '\\n')"
   ]
  },
  {
   "cell_type": "code",
   "execution_count": 104,
   "metadata": {},
   "outputs": [
    {
     "name": "stdout",
     "output_type": "stream",
     "text": [
      "var_mid_heat: 4509.344197918928 \n",
      "\n",
      "var_mid_cool: 606.6320051507349 \n",
      "\n",
      "var_wes_heat: 10959.347546161953 \n",
      "\n",
      "var_wes_cool: 4974.049597647155 \n",
      "\n",
      "var_nor_heat: 3972.8634477603237 \n",
      "\n",
      "var_nor_cool: 543.2263260848493 \n",
      "\n",
      "var_sou_heat: 4187.517695761184 \n",
      "\n",
      "var_sou_cool: 2206.181608195164 \n",
      "\n"
     ]
    }
   ],
   "source": [
    "# heat&cool difference variance among each region\n",
    "# var(seta + seta_1) = var(seta) + var(seta_1) when seta is independent with seta_1\n",
    "var_mid_heat_diff = heat_09_thetar['Midwest Census Region09'] + heat_15_thetar['Midwest Census Region15']\n",
    "var_wes_heat_diff = heat_09_thetar['West Census Region09'] + heat_15_thetar['West Census Region15']\n",
    "var_nor_heat_diff = heat_09_thetar['Northeast Census Region09'] + heat_15_thetar['Northeast Census Region15']\n",
    "var_sou_heat_diff = heat_09_thetar['South Census Region09'] + heat_15_thetar['South Census Region15']\n",
    "var_mid_cool_diff = cool_09_thetar['Midwest Census Region09'] + cool_15_thetar['Midwest Census Region15']\n",
    "var_wes_cool_diff = cool_09_thetar['West Census Region09'] + cool_15_thetar['West Census Region15']\n",
    "var_nor_cool_diff = cool_09_thetar['Northeast Census Region09'] + cool_15_thetar['Northeast Census Region15']\n",
    "var_sou_cool_diff = cool_09_thetar['South Census Region09'] + cool_15_thetar['South Census Region15']\n",
    "print('var_mid_heat:', var_mid_heat_diff, '\\n')\n",
    "print('var_mid_cool:', var_mid_cool_diff, '\\n')\n",
    "print('var_wes_heat:', var_wes_heat_diff, '\\n')\n",
    "print('var_wes_cool:', var_wes_cool_diff, '\\n')\n",
    "print('var_nor_heat:', var_nor_heat_diff, '\\n')\n",
    "print('var_nor_cool:', var_nor_cool_diff, '\\n')\n",
    "print('var_sou_heat:', var_sou_heat_diff, '\\n')\n",
    "print('var_sou_cool:', var_sou_cool_diff, '\\n')"
   ]
  },
  {
   "cell_type": "code",
   "execution_count": 107,
   "metadata": {},
   "outputs": [
    {
     "name": "stdout",
     "output_type": "stream",
     "text": [
      "mid_heat_lower: 408.2293646447392 671.4638355692391\n",
      "wes_heat_lower: 239.6245009832038 649.9971586169003\n",
      "sou_heat_lower: 357.95403010752506 611.6212765548042\n",
      "nor_heat_lower: -118.22496827617778 128.8551986406839\n",
      "mid_cool_lower: -343.4605376599885 -246.91132718186884\n",
      "wes_cool_lower: -386.3648769972573 -109.89926297394834\n",
      "sou_cool_lower: -524.1838364621666 -340.0614069100608\n",
      "nor_cool_lower: -348.88687662351526 -257.522589195931\n"
     ]
    }
   ],
   "source": [
    "# 95% confidence interval\n",
    "mid_heat_lower = mid_heat_diff - 1.96 * np.sqrt(var_mid_heat_diff)\n",
    "mid_heat_upper = mid_heat_diff + 1.96 * np.sqrt(var_mid_heat_diff)\n",
    "wes_heat_lower = wes_heat_diff - 1.96 * np.sqrt(var_wes_heat_diff)\n",
    "wes_heat_upper = wes_heat_diff + 1.96 * np.sqrt(var_wes_heat_diff)\n",
    "nor_heat_lower = nor_heat_diff - 1.96 * np.sqrt(var_nor_heat_diff)\n",
    "nor_heat_upper = nor_heat_diff + 1.96 * np.sqrt(var_nor_heat_diff)\n",
    "sou_heat_lower = sou_heat_diff - 1.96 * np.sqrt(var_sou_heat_diff)\n",
    "sou_heat_upper = sou_heat_diff + 1.96 * np.sqrt(var_sou_heat_diff)\n",
    "mid_cool_lower = mid_cool_diff - 1.96 * np.sqrt(var_mid_cool_diff)\n",
    "mid_cool_upper = mid_cool_diff + 1.96 * np.sqrt(var_mid_cool_diff)\n",
    "wes_cool_lower = wes_cool_diff - 1.96 * np.sqrt(var_wes_cool_diff)\n",
    "wes_cool_upper = wes_cool_diff + 1.96 * np.sqrt(var_wes_cool_diff)\n",
    "nor_cool_lower = nor_cool_diff - 1.96 * np.sqrt(var_nor_cool_diff)\n",
    "nor_cool_upper = nor_cool_diff + 1.96 * np.sqrt(var_nor_cool_diff)\n",
    "sou_cool_lower = sou_cool_diff - 1.96 * np.sqrt(var_sou_cool_diff)\n",
    "sou_cool_upper = sou_cool_diff + 1.96 * np.sqrt(var_sou_cool_diff)\n",
    "print('mid_heat_lower:', mid_heat_lower, mid_heat_upper)\n",
    "print('wes_heat_lower:', wes_heat_lower, wes_heat_upper)\n",
    "print('sou_heat_lower:', sou_heat_lower, sou_heat_upper)\n",
    "print('nor_heat_lower:', nor_heat_lower, nor_heat_upper)\n",
    "print('mid_cool_lower:', mid_cool_lower, mid_cool_upper)\n",
    "print('wes_cool_lower:', wes_cool_lower, wes_cool_upper)\n",
    "print('sou_cool_lower:', sou_cool_lower, sou_cool_upper)\n",
    "print('nor_cool_lower:', nor_cool_lower, nor_cool_upper)"
   ]
  },
  {
   "cell_type": "markdown",
   "metadata": {},
   "source": [
    "### Table 2 difference point estimate and confidence interval\n",
    "\n",
    "|region|heat difference average|heat variance|heat difference 95% CI|cool difference average|cool variance|cool difference 95% CI|\n",
    "|:----:|:--------------:|:-------------:|:--------------:|:-------------:|:-------------:|:-------------:|\n",
    "|Midwest|539.847|4509.344|[408.229, 671.464]|-295.186|606.632|[-343.461, -246.911]|\n",
    "|West|444.811|10959.348|[239.625, 649.997]|-248.132|4974.050|[-386.365, -109.899]|\n",
    "|South|484.788|4187.518|[357.954, 611.621]|-432.123|2206.182|[-524.184, -340.061]|\n",
    "|North|5.315|3972.863|[-118.225, 128.855]|-303.205| 543.226|[-348.887, -257.523]|"
   ]
  },
  {
   "cell_type": "code",
   "execution_count": 137,
   "metadata": {},
   "outputs": [],
   "source": [
    "# Question 3\n",
    "\n",
    "## figures for 2(a)\n",
    "### standard error 2(a)\n",
    "types = ['09_heat', '15_heat', '09_cool', '15_cool']\n",
    "regions = ['Midwest', 'West', 'Northeast', 'South']\n",
    "mean_09_heat = [i for i in heat_weighted_avr_09.values()]\n",
    "mean_15_heat = [i for i in heat_weighted_avr_15.values()] \n",
    "mean_09_cool = [i for i in cool_weighted_avr_09.values()]\n",
    "mean_15_cool = [i for i in heat_weighted_avr_15.values()]\n",
    "se_09_heat = [np.sqrt(i) for i in heat_09_thetar.values()]\n",
    "se_09_cool = [np.sqrt(i) for i in cool_09_thetar.values()]\n",
    "se_15_heat = [np.sqrt(i) for i in heat_15_thetar.values()]\n",
    "se_15_cool = [np.sqrt(i) for i in cool_15_thetar.values()]"
   ]
  },
  {
   "cell_type": "markdown",
   "metadata": {},
   "source": [
    "# figure 1 \n",
    "&nbsp; Figure 1 describes heat average and 95% confidence interval of year 2009 among 4 regions named Midwest Census Region,\n",
    "West Census Region, Northeast Census Region and South Census Region. X axis and Y axis of the figure represent values and regions.\n",
    "Grey line and red intervals mean value trend and point eatimate with 95% confidence interval. "
   ]
  },
  {
   "cell_type": "code",
   "execution_count": 195,
   "metadata": {},
   "outputs": [
    {
     "data": {
      "image/png": "[encoded data removed]",
      "text/plain": [
       "<Figure size 432x288 with 1 Axes>"
      ]
     },
     "metadata": {
      "needs_background": "light"
     },
     "output_type": "display_data"
    }
   ],
   "source": [
    "fig1, ax1 = plt.subplots()\n",
    "ax1.errorbar(x = mean_09_heat, y = regions, xerr = [1.96 * i for i in se_09_heat], uplims = True, lolims = True,\\\n",
    "                   color = 'grey', ecolor = 'red', linewidth = '0.5', elinewidth = 3, capsize = 4)\n",
    "_, _ = ax1.set_xlabel('values'), ax1.set_ylabel('regions ')\n",
    "_ = ax1.set_title('2009 heating mean&95%CI among 4 regions')"
   ]
  },
  {
   "cell_type": "markdown",
   "metadata": {},
   "source": [
    "# figure 2\n",
    "&nbsp; Figure 2 describes heat average and 95% confidence interval of year 2015 among 4 regions named Midwest Census Region,\n",
    "West Census Region, Northeast Census Region and South Census Region. X axis and Y axis of the figure represent values and regions.\n",
    "Blue line and grey intervals mean value trend and point eatimate with 95% confidence interval. "
   ]
  },
  {
   "cell_type": "code",
   "execution_count": 196,
   "metadata": {},
   "outputs": [
    {
     "data": {
      "image/png": "[encoded data removed]",
      "text/plain": [
       "<Figure size 432x288 with 1 Axes>"
      ]
     },
     "metadata": {
      "needs_background": "light"
     },
     "output_type": "display_data"
    }
   ],
   "source": [
    "# figure 2 describes heat average and 95%CI of year 2015 among 4 regions.\n",
    "fig2,ax2 = plt.subplots() \n",
    "ax2.errorbar(x = mean_15_heat, y = regions, xerr = [1.96 * i for i in se_15_heat], uplims = True, lolims = True,\\\n",
    "                   color = 'blue', ecolor = 'grey', elinewidth = 3, linewidth = 0.5, capsize = 4)\n",
    "_, _ = ax2.set_xlabel('values'), ax2.set_ylabel('regions ')\n",
    "_ = ax2.set_title('2015 heating mean&95%CI among 4 regions')"
   ]
  },
  {
   "cell_type": "markdown",
   "metadata": {},
   "source": [
    "# figure 3\n",
    "&nbsp; Figure 3 describes cool average and 95% confidence interval of year 2009 among 4 regions named Midwest Census Region,\n",
    "West Census Region, Northeast Census Region and South Census Region. X axis and Y axis of the figure represent values and regions.\n",
    "Pink line and purple intervals mean value trend and point eatimate with 95% confidence interval. "
   ]
  },
  {
   "cell_type": "code",
   "execution_count": 168,
   "metadata": {},
   "outputs": [
    {
     "data": {
      "image/png": "[encoded data removed]",
      "text/plain": [
       "<Figure size 432x288 with 1 Axes>"
      ]
     },
     "metadata": {
      "needs_background": "light"
     },
     "output_type": "display_data"
    }
   ],
   "source": [
    "# figure 3 describes cool average and 95%CI of year 2009 among 4 regions.\n",
    "fig3,ax3 = plt.subplots() \n",
    "ax3.errorbar(x = mean_09_cool, y = regions, xerr = [1.96 * i for i in se_09_cool], uplims = True, lolims = True,\\\n",
    "                   color = 'brown', ecolor = 'purple', elinewidth = 3, linewidth = 0.5, capsize = 4)\n",
    "_, _ = ax3.set_xlabel('values'), ax2.set_ylabel('regions ')\n",
    "_ = ax3.set_title('2009 cooling mean&95%CI among 4 regions')"
   ]
  },
  {
   "cell_type": "markdown",
   "metadata": {},
   "source": [
    "# figure 4\n",
    "&nbsp; Figure 4 describes cool average and 95% confidence interval of year 2015 among 4 regions named Midwest Census Region,\n",
    "West Census Region, Northeast Census Region and South Census Region. X axis and Y axis of the figure represent values and regions.\n",
    "Grey line and blue intervals mean value trend and point eatimate with 95% confidence interval. "
   ]
  },
  {
   "cell_type": "code",
   "execution_count": 189,
   "metadata": {},
   "outputs": [
    {
     "data": {
      "image/png": "[encoded data removed]",
      "text/plain": [
       "<Figure size 432x288 with 1 Axes>"
      ]
     },
     "metadata": {
      "needs_background": "light"
     },
     "output_type": "display_data"
    }
   ],
   "source": [
    "# figure 4 describes cool average and 95%CI of year 2015 among 4 regions.\n",
    "fig4,ax4 = plt.subplots() \n",
    "ax4.errorbar(x = mean_15_cool, y = regions, xerr = [1.96 * i for i in se_15_cool], uplims = True, lolims = True,\\\n",
    "                   color = 'black', ecolor = 'blue', elinewidth = 3, linewidth = 0.5, capsize = 4)\n",
    "_, _ = ax4.set_xlabel('values'), ax2.set_ylabel('regions ')\n",
    "_ = ax4.set_title('2015 cooling mean&95%CI among 4 regions')"
   ]
  },
  {
   "cell_type": "code",
   "execution_count": 200,
   "metadata": {},
   "outputs": [],
   "source": [
    "## figures for 2(b)\n",
    "### standard error 2(b)\n",
    "point_heat_diff = [mid_heat_diff, wes_heat_diff, nor_heat_diff, sou_heat_diff]\n",
    "point_cool_diff = [mid_cool_diff, wes_cool_diff, nor_cool_diff, sou_cool_diff]\n",
    "se_heat_diff = [var_mid_heat_diff, var_wes_heat_diff, var_nor_heat_diff, var_sou_heat_diff]\n",
    "se_heat_diff = [np.sqrt(i) for i in se_heat_diff]\n",
    "se_cool_diff = [var_mid_cool_diff, var_wes_cool_diff, var_nor_cool_diff, var_sou_cool_diff]\n",
    "se_cool_diff = [np.sqrt(i) for i in se_cool_diff]"
   ]
  },
  {
   "cell_type": "markdown",
   "metadata": {},
   "source": [
    "# figure 5\n",
    "&nbsp; Figure 5 describes heating difference and 95% confidence interval among 4 regions named Midwest Census Region,\n",
    "West Census Region, Northeast Census Region and South Census Region. X axis and Y axis of the figure represent values and regions.\n",
    "Brown line and blue intervals mean value trend and point eatimate with 95% confidence interval. "
   ]
  },
  {
   "cell_type": "code",
   "execution_count": 201,
   "metadata": {},
   "outputs": [
    {
     "data": {
      "image/png": "[encoded data removed]",
      "text/plain": [
       "<Figure size 432x288 with 1 Axes>"
      ]
     },
     "metadata": {
      "needs_background": "light"
     },
     "output_type": "display_data"
    }
   ],
   "source": [
    "# figure 5 describes heat difference point estimate and 95%CI among 4 regions.\n",
    "fig5,ax5 = plt.subplots() \n",
    "ax5.errorbar(x = point_heat_diff, y = regions, xerr = [1.96 * i for i in se_heat_diff], uplims = True, lolims = True,\\\n",
    "                   color = 'brown', ecolor = 'blue', elinewidth = 1, linewidth = 3, capsize = 3)\n",
    "_, _ = ax5.set_xlabel('values'), ax2.set_ylabel('regions ')\n",
    "_ = ax5.set_title('heating difference & 95%CI among 4 regions')"
   ]
  },
  {
   "cell_type": "markdown",
   "metadata": {},
   "source": [
    "# figure 6\n",
    "&nbsp; Figure 6 describes cooling difference and 95% confidence interval among 4 regions named Midwest Census Region,\n",
    "West Census Region, Northeast Census Region and South Census Region. X axis and Y axis of the figure represent values and regions.\n",
    "Pink line and black intervals mean value trend and point eatimate with 95% confidence interval. "
   ]
  },
  {
   "cell_type": "code",
   "execution_count": 202,
   "metadata": {},
   "outputs": [
    {
     "data": {
      "image/png": "[encoded data removed]",
      "text/plain": [
       "<Figure size 432x288 with 1 Axes>"
      ]
     },
     "metadata": {
      "needs_background": "light"
     },
     "output_type": "display_data"
    }
   ],
   "source": [
    "# figure 6 describes cool difference point estimate and 95%CIamong 4 regions.\n",
    "fig6,ax6 = plt.subplots() \n",
    "ax6.errorbar(x = point_cool_diff, y = regions, xerr = [1.96 * i for i in se_cool_diff], uplims = True, lolims = True,\\\n",
    "                   color = 'pink', ecolor = 'grey', elinewidth = 1, linewidth = 3, capsize = 3)\n",
    "_, _ = ax6.set_xlabel('values'), ax2.set_ylabel('regions ')\n",
    "_ = ax6.set_title('cooling difference & 95%CI among 4 regions') "
   ]
  },
  {
   "cell_type": "code",
   "execution_count": null,
   "metadata": {},
   "outputs": [],
   "source": []
  }
 ],
 "metadata": {
  "jupytext": {
   "encoding": "# -*- coding: utf-8 -*-",
   "formats": "ipynb,py:light"
  },
  "kernelspec": {
   "display_name": "Python 3",
   "language": "python",
   "name": "python3"
  },
  "language_info": {
   "codemirror_mode": {
    "name": "ipython",
    "version": 3
   },
   "file_extension": ".py",
   "mimetype": "text/x-python",
   "name": "python",
   "nbconvert_exporter": "python",
   "pygments_lexer": "ipython3",
   "version": "3.8.5"
  }
 },
 "nbformat": 4,
 "nbformat_minor": 4
}
